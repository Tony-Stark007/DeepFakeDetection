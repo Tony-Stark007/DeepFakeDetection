{
 "cells": [
  {
   "cell_type": "code",
   "execution_count": 1,
   "metadata": {},
   "outputs": [],
   "source": [
    "import os\n",
    "import imageio\n",
    "import numpy as np"
   ]
  },
  {
   "cell_type": "code",
   "execution_count": 10,
   "metadata": {},
   "outputs": [],
   "source": [
    "path = '../ColabNotebooks/dataset'"
   ]
  },
  {
   "cell_type": "code",
   "execution_count": 3,
   "metadata": {},
   "outputs": [],
   "source": [
    "def extractFrames(file_name, frame_step):\n",
    "  video = imageio.get_reader(file_name, 'ffmpeg')\n",
    "  return np.array([frame for i, frame in enumerate(video) if i % frame_step == 0])"
   ]
  },
  {
   "cell_type": "code",
   "execution_count": 4,
   "metadata": {},
   "outputs": [],
   "source": [
    "def preProcessing(frames):\n",
    "  video_r_channel = np.zeros(frames.shape[0:3])\n",
    "  video_g_channel = np.zeros(frames.shape[0:3])\n",
    "  video_b_channel = np.zeros(frames.shape[0:3])\n",
    "\n",
    "  for i, frame in enumerate(frames):\n",
    "    for j, row in enumerate(frame):\n",
    "      for k, pixel in enumerate(row):\n",
    "        video_b_channel[i][j][k] = pixel[0]\n",
    "        video_g_channel[i][j][k] = pixel[1]\n",
    "        video_r_channel[i][j][k] = pixel[2]\n",
    "        \n",
    "  return video_r_channel, video_g_channel, video_b_channel"
   ]
  },
  {
   "cell_type": "code",
   "execution_count": 5,
   "metadata": {},
   "outputs": [],
   "source": [
    "# Returns correlation value\n",
    "def superimpose(frame: np.ndarray, kernel: np.ndarray):\n",
    "  n = kernel.shape[0]\n",
    "  offset = n // 2\n",
    "\n",
    "  superimposed_matrix = frame * kernel\n",
    "  return sum(superimposed_matrix.flatten()) - superimposed_matrix[offset][offset]"
   ]
  },
  {
   "cell_type": "code",
   "execution_count": 6,
   "metadata": {},
   "outputs": [],
   "source": [
    "def isValid(index, length, skip):\n",
    "  return index >= skip and index < length - skip"
   ]
  },
  {
   "cell_type": "code",
   "execution_count": 7,
   "metadata": {},
   "outputs": [],
   "source": [
    "# Channel is a 3D matrix: (number of frames, height, width)\n",
    "# each element represents the pixel value of the given channel\n",
    "\n",
    "def convolve(channel, kernel):\n",
    "  n = len(kernel) # Kernel is of dimension n x n\n",
    "  skip = n // 2 # No. of rows and cols to be skipped\n",
    "\n",
    "  num_frames, height, width = channel.shape\n",
    "\n",
    "  # res_frames = np.zeros((len(frames), height - 2 * skip, width - 2 * skip))\n",
    "  res_channel = np.zeros(channel.shape)\n",
    "\n",
    "  for i, frame in enumerate(channel):\n",
    "    print(f'Frame: {i}')\n",
    "\n",
    "    for j, row in enumerate(frame):\n",
    "      if not isValid(j, height, skip):\n",
    "        continue\n",
    "\n",
    "      for k, pixel in enumerate(row):\n",
    "        if not isValid(k, width, skip):\n",
    "          continue\n",
    "\n",
    "        subframe = frame[j - skip: j + skip + 1, k - skip: k + skip + 1]\n",
    "\n",
    "        res_channel[i][j][k] = superimpose(subframe, kernel)\n",
    "\n",
    "  return res_channel[:, skip:-skip, skip:-skip]"
   ]
  },
  {
   "cell_type": "code",
   "execution_count": 22,
   "metadata": {},
   "outputs": [],
   "source": [
    "def saveAsVideo(frames, file_name, fps):\n",
    "  frames = frames.astype('uint8')\n",
    "  writer = imageio.get_writer(file_name, fps=fps, macro_block_size=None)\n",
    "  for frame in frames:\n",
    "    writer.append_data(frame)"
   ]
  },
  {
   "cell_type": "code",
   "execution_count": 25,
   "metadata": {},
   "outputs": [],
   "source": [
    "#driver code\n",
    "files = os.listdir(path)\n",
    "\n",
    "frames = np.array(extractFrames(os.path.join(path, files[5]), 30))\n",
    "video_r_channel, video_g_channel, video_b_channel = preProcessing(frames)"
   ]
  },
  {
   "cell_type": "code",
   "execution_count": 26,
   "metadata": {},
   "outputs": [],
   "source": [
    "saveAsVideo(video_r_channel, 'video_r.mp4', 5)\n",
    "saveAsVideo(video_g_channel, 'video_g.mp4', 5)\n",
    "saveAsVideo(video_b_channel, 'video_b.mp4', 5)"
   ]
  },
  {
   "cell_type": "code",
   "execution_count": null,
   "metadata": {},
   "outputs": [],
   "source": []
  }
 ],
 "metadata": {
  "interpreter": {
   "hash": "31f2aee4e71d21fbe5cf8b01ff0e069b9275f58929596ceb00d14d90e3e16cd6"
  },
  "kernelspec": {
   "display_name": "Python 3.7.13 64-bit",
   "language": "python",
   "name": "python3"
  },
  "language_info": {
   "codemirror_mode": {
    "name": "ipython",
    "version": 3
   },
   "file_extension": ".py",
   "mimetype": "text/x-python",
   "name": "python",
   "nbconvert_exporter": "python",
   "pygments_lexer": "ipython3",
   "version": "3.7.13"
  },
  "orig_nbformat": 4
 },
 "nbformat": 4,
 "nbformat_minor": 2
}
