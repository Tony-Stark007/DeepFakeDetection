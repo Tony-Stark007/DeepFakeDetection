{
 "cells": [
  {
   "cell_type": "code",
   "execution_count": 11,
   "metadata": {},
   "outputs": [],
   "source": [
    "import os\n",
    "import imageio\n",
    "import numpy as np"
   ]
  },
  {
   "cell_type": "code",
   "execution_count": 13,
   "metadata": {},
   "outputs": [],
   "source": [
    "path = '../ColabNotebooks/dataset'"
   ]
  },
  {
   "cell_type": "code",
   "execution_count": 16,
   "metadata": {},
   "outputs": [],
   "source": [
    "def extractFrames(file_name, frame_step):\n",
    "  video = imageio.get_reader(file_name, 'ffmpeg')\n",
    "  return np.array([frame for i, frame in enumerate(video) if i % frame_step == 0])"
   ]
  },
  {
   "cell_type": "code",
   "execution_count": 17,
   "metadata": {},
   "outputs": [],
   "source": [
    "def preProcessing(frames):\n",
    "  video_r_channel = np.zeros(frames.shape[0:3])\n",
    "  video_g_channel = np.zeros(frames.shape[0:3])\n",
    "  video_b_channel = np.zeros(frames.shape[0:3])\n",
    "\n",
    "  for i, frame in enumerate(frames):\n",
    "    for j, row in enumerate(frame):\n",
    "      for k, pixel in enumerate(row):\n",
    "        video_r_channel[i][j][k] = pixel[0]\n",
    "        video_g_channel[i][j][k] = pixel[1]\n",
    "        video_b_channel[i][j][k] = pixel[2]\n",
    "        \n",
    "  return video_r_channel, video_g_channel, video_b_channel"
   ]
  },
  {
   "cell_type": "code",
   "execution_count": 18,
   "metadata": {},
   "outputs": [],
   "source": [
    "# Returns correlation value\n",
    "def superimpose(frame: np.ndarray, kernel: np.ndarray):\n",
    "  n = kernel.shape[0]\n",
    "  mid = n // 2\n",
    "\n",
    "  superimposed_matrix = frame * kernel\n",
    "  return sum(superimposed_matrix.flatten()) - superimposed_matrix[mid][mid]"
   ]
  },
  {
   "cell_type": "code",
   "execution_count": 19,
   "metadata": {},
   "outputs": [],
   "source": [
    "def isValid(index, length, skip):\n",
    "  return index >= skip and index < length - skip"
   ]
  },
  {
   "cell_type": "code",
   "execution_count": 20,
   "metadata": {},
   "outputs": [],
   "source": [
    "# Channel is a 3D matrix: (number of frames, height, width)\n",
    "# each element represents the pixel value of the given channel\n",
    "\n",
    "def convolve(channel, kernel):\n",
    "  n = len(kernel) # Kernel is of dimension n x n\n",
    "  skip = n // 2 # No. of rows and cols to be skipped\n",
    "\n",
    "  num_frames, height, width = channel.shape\n",
    "\n",
    "  # res_frames = np.zeros((len(frames), height - 2 * skip, width - 2 * skip))\n",
    "  res_channel = np.zeros(channel.shape)\n",
    "\n",
    "  for i, frame in enumerate(channel):\n",
    "    print(f'Frame: {i}')\n",
    "\n",
    "    for j, row in enumerate(frame):\n",
    "      if not isValid(j, height, skip):\n",
    "        continue\n",
    "\n",
    "      for k, pixel in enumerate(row):\n",
    "        if not isValid(k, width, skip):\n",
    "          continue\n",
    "\n",
    "        subframe = frame[j - skip: j + skip + 1, k - skip: k + skip + 1]\n",
    "\n",
    "        res_channel[i][j][k] = superimpose(subframe, kernel)\n",
    "\n",
    "  return res_channel[:, skip:-skip, skip:-skip]"
   ]
  },
  {
   "cell_type": "code",
   "execution_count": 21,
   "metadata": {},
   "outputs": [],
   "source": [
    "def saveAsVideo(frames, file_name, fps):\n",
    "  frames = frames.astype('uint8')\n",
    "  writer = imageio.get_writer(file_name, fps=fps, macro_block_size=None)\n",
    "  for frame in frames:\n",
    "    writer.append_data(frame)"
   ]
  },
  {
   "cell_type": "code",
   "execution_count": 23,
   "metadata": {},
   "outputs": [],
   "source": [
    "#driver code\n",
    "files = os.listdir(path)\n",
    "\n",
    "frames = np.array(extractFrames(os.path.join(path, files[5]), 30))\n",
    "video_r_channel, video_g_channel, video_b_channel = preProcessing(frames)"
   ]
  },
  {
   "cell_type": "code",
   "execution_count": null,
   "metadata": {},
   "outputs": [],
   "source": [
    "saveAsVideo(video_r_channel, 'video_r.mp4', 5)\n",
    "saveAsVideo(video_g_channel, 'video_g.mp4', 5)\n",
    "saveAsVideo(video_b_channel, 'video_b.mp4', 5)"
   ]
  },
  {
   "cell_type": "code",
   "execution_count": 24,
   "metadata": {},
   "outputs": [
    {
     "name": "stdout",
     "output_type": "stream",
     "text": [
      "(1, 5, 6)\n",
      "Frame: 0\n",
      "[[[1.77777778 2.44444444 3.22222222 4.44444444]\n",
      "  [1.77777778 2.44444444 3.22222222 4.44444444]\n",
      "  [1.77777778 2.55555556 3.33333333 4.44444444]]]\n"
     ]
    }
   ],
   "source": [
    "tmpframe = np.array([[[2,2,2,4,5,6], [2,2,2,4,5,6], [2,2,2,4,5,6], [2,2,2,4,5,6], [1,2,3,4,5,6]]])\n",
    "print(tmpframe.shape)\n",
    "\n",
    "# tmpkernel = np.ones((3,3))\n",
    "tmpkernel = np.full((3,3), 1/9)\n",
    "\n",
    "tmpa = convolve(tmpframe, tmpkernel)\n",
    "print(tmpa)"
   ]
  },
  {
   "cell_type": "code",
   "execution_count": 25,
   "metadata": {},
   "outputs": [
    {
     "data": {
      "text/plain": [
       "array([[163., 163., 163., ..., 158., 158., 158.],\n",
       "       [163., 163., 163., ..., 158., 158., 158.],\n",
       "       [163., 163., 163., ..., 159., 159., 159.],\n",
       "       ...,\n",
       "       [ 52.,  51.,  51., ..., 253., 253., 253.],\n",
       "       [ 52.,  52.,  52., ..., 253., 253., 253.],\n",
       "       [ 52.,  52.,  52., ..., 253., 253., 253.]])"
      ]
     },
     "execution_count": 25,
     "metadata": {},
     "output_type": "execute_result"
    }
   ],
   "source": [
    "kernel = np.full((3,3), 1/9)\n",
    "actual = video_r_channel[0][1:-1, 1:-1]\n",
    "actual"
   ]
  },
  {
   "cell_type": "code",
   "execution_count": 26,
   "metadata": {},
   "outputs": [
    {
     "name": "stdout",
     "output_type": "stream",
     "text": [
      "Frame: 0\n"
     ]
    },
    {
     "data": {
      "text/plain": [
       "array([[[144, 144, 144, ..., 140, 140, 140],\n",
       "        [144, 144, 144, ..., 140, 140, 140],\n",
       "        [144, 144, 144, ..., 140, 140, 140],\n",
       "        ...,\n",
       "        [ 45,  45,  45, ..., 224, 224, 224],\n",
       "        [ 46,  46,  45, ..., 224, 224, 224],\n",
       "        [ 47,  46,  46, ..., 224, 224, 224]]], dtype=uint8)"
      ]
     },
     "execution_count": 26,
     "metadata": {},
     "output_type": "execute_result"
    }
   ],
   "source": [
    "predicted = convolve(np.array([video_r_channel[0]]), kernel).astype('uint8')\n",
    "predicted"
   ]
  },
  {
   "cell_type": "code",
   "execution_count": null,
   "metadata": {},
   "outputs": [],
   "source": [
    "imageio.imwrite('predicted_image_r.jpg', predicted[0])"
   ]
  },
  {
   "cell_type": "code",
   "execution_count": 27,
   "metadata": {},
   "outputs": [
    {
     "data": {
      "text/plain": [
       "array([[19, 19, 19, ..., 18, 18, 18],\n",
       "       [19, 19, 19, ..., 18, 18, 18],\n",
       "       [19, 19, 19, ..., 19, 19, 19],\n",
       "       ...,\n",
       "       [ 7,  6,  6, ..., 29, 29, 29],\n",
       "       [ 6,  6,  7, ..., 29, 29, 29],\n",
       "       [ 5,  6,  6, ..., 29, 29, 29]], dtype=uint8)"
      ]
     },
     "execution_count": 27,
     "metadata": {},
     "output_type": "execute_result"
    }
   ],
   "source": [
    "diff = abs(actual - predicted[0]).astype('uint8')\n",
    "diff"
   ]
  },
  {
   "cell_type": "code",
   "execution_count": 28,
   "metadata": {},
   "outputs": [
    {
     "data": {
      "text/plain": [
       "13.366895691824933"
      ]
     },
     "execution_count": 28,
     "metadata": {},
     "output_type": "execute_result"
    }
   ],
   "source": [
    "(1 / len(diff.flatten())) * sum(diff.flatten())"
   ]
  },
  {
   "cell_type": "code",
   "execution_count": null,
   "metadata": {},
   "outputs": [],
   "source": [
    "imageio.imwrite('error_image_r.jpg', diff)"
   ]
  },
  {
   "cell_type": "markdown",
   "metadata": {},
   "source": [
    "# Below Code is Work-in-Progress"
   ]
  },
  {
   "cell_type": "code",
   "execution_count": 29,
   "metadata": {},
   "outputs": [],
   "source": [
    "from sklearn.mixture import GaussianMixture"
   ]
  },
  {
   "cell_type": "code",
   "execution_count": 61,
   "metadata": {},
   "outputs": [
    {
     "name": "stdout",
     "output_type": "stream",
     "text": [
      "2.999999999999999 1.414213915926441\n"
     ]
    }
   ],
   "source": [
    "gm = GaussianMixture(n_components=1, random_state=45)\n",
    "tmpX = np.array([[1], [2], [3], [4], [5]])\n",
    "tmpModel = gm.fit(tmpX)\n",
    "tmpMeans = tmpModel.means_.flatten()[0]\n",
    "tmpStddev = (tmpModel.covariances_ ** (1/2)).flatten()[0]\n",
    "\n",
    "print(tmpMeans, tmpStddev)"
   ]
  },
  {
   "cell_type": "code",
   "execution_count": 71,
   "metadata": {},
   "outputs": [
    {
     "data": {
      "text/plain": [
       "0.2820947205449703"
      ]
     },
     "execution_count": 71,
     "metadata": {},
     "output_type": "execute_result"
    }
   ],
   "source": [
    "import scipy.stats\n",
    "tmpObj = scipy.stats.norm(loc=tmpMeans, scale=tmpStddev)\n",
    "tmpObj.pdf(2.9999)"
   ]
  },
  {
   "cell_type": "code",
   "execution_count": 75,
   "metadata": {},
   "outputs": [
    {
     "data": {
      "text/plain": [
       "0.28209472125020674"
      ]
     },
     "execution_count": 75,
     "metadata": {},
     "output_type": "execute_result"
    }
   ],
   "source": [
    "1 / (tmpStddev * (((2 * np.pi) ** 0.5)))\n",
    "# You're muted"
   ]
  },
  {
   "cell_type": "code",
   "execution_count": null,
   "metadata": {},
   "outputs": [],
   "source": [
    "# i will call you again\n"
   ]
  }
 ],
 "metadata": {
  "interpreter": {
   "hash": "31f2aee4e71d21fbe5cf8b01ff0e069b9275f58929596ceb00d14d90e3e16cd6"
  },
  "kernelspec": {
   "display_name": "Python 3",
   "language": "python",
   "name": "python3"
  },
  "language_info": {
   "codemirror_mode": {
    "name": "ipython",
    "version": 3
   },
   "file_extension": ".py",
   "mimetype": "text/x-python",
   "name": "python",
   "nbconvert_exporter": "python",
   "pygments_lexer": "ipython3",
   "version": "3.7.13"
  },
  "orig_nbformat": 4
 },
 "nbformat": 4,
 "nbformat_minor": 2
}
